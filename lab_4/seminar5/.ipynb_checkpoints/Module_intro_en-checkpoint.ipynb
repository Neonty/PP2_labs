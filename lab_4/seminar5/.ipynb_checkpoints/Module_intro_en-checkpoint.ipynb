{
 "cells": [
  {
   "cell_type": "markdown",
   "metadata": {},
   "source": [
    "### Modules: Introduction [Homework]"
   ]
  },
  {
   "cell_type": "markdown",
   "metadata": {},
   "source": [
    "### Step 1:\n",
    "\n",
    "Please create a ** arithmetics ** module, which contains the following functions:\n",
    "\n",
    "1. ** Add (a, b) ** - returns the sum of two numbers\n",
    "2. ** Subtract (a, b) ** - Returns ** Absolute ** The difference between two numbers\n",
    "3. ** Divide (a, b) ** - returns the integer division of a larger number by a smaller number\n",
    "4. ** Multiply (a, b) ** - returns the work of two numbers\n",
    "\n",
    "Then try to import it and start the code blocks below. Please attach ** archive file ** (\".zip\"), which will contain ** module file and Jupyter Notebook **.\n",
    "\n",
    "\n",
    "*** Note: the module file name should coincide with the imported module, and the extension of the file should be \".py\" ***\n",
    "\n",
    "---"
   ]
  },
  {
   "cell_type": "code",
   "execution_count": 14,
   "metadata": {},
   "outputs": [
    {
     "name": "stdout",
     "output_type": "stream",
     "text": [
      "Arithmetics module is imported\n"
     ]
    }
   ],
   "source": [
    "%run arithmetics.py\n",
    "import arithmetics"
   ]
  },
  {
   "cell_type": "markdown",
   "metadata": {},
   "source": [
    "### Expected results:\n",
    "```\n",
    "Arithmetics module is imported\n",
    "```"
   ]
  },
  {
   "cell_type": "markdown",
   "metadata": {},
   "source": [
    "Using ** only ** imported functions from the Arithmetics module, please solve the following problems."
   ]
  },
  {
   "cell_type": "code",
   "execution_count": 18,
   "metadata": {},
   "outputs": [],
   "source": [
    "arr1 = [1,23,3,40,5]\n",
    "arr2 = [10,11,12,5,18]"
   ]
  },
  {
   "cell_type": "code",
   "execution_count": 20,
   "metadata": {},
   "outputs": [
    {
     "name": "stdout",
     "output_type": "stream",
     "text": [
      "[11, 34, 15, 45, 23]\n"
     ]
    }
   ],
   "source": [
    "sum2nums = []\n",
    "for num1, num2 in zip(arr1, arr2):\n",
    "    sum2nums.append(arithmetics.add(num1,num2))\n",
    "print(sum2nums)"
   ]
  },
  {
   "cell_type": "markdown",
   "metadata": {},
   "source": [
    "### Expected results:\n",
    "```\n",
    "[11, 34, 15, 45, 23]\n",
    "```"
   ]
  },
  {
   "cell_type": "code",
   "execution_count": 23,
   "metadata": {},
   "outputs": [
    {
     "name": "stdout",
     "output_type": "stream",
     "text": [
      "[9, 12, 9, 35, 13]\n"
     ]
    }
   ],
   "source": [
    "dif2nums = []\n",
    "for num1, num2 in zip(arr1, arr2):\n",
    "    dif2nums.append(arithmetics.subtract(num1,num2))\n",
    "print(dif2nums)"
   ]
  },
  {
   "cell_type": "markdown",
   "metadata": {},
   "source": [
    "### Expected results:\n",
    "```\n",
    "[9, 12, 9, 35, 13]\n",
    "```"
   ]
  },
  {
   "cell_type": "code",
   "execution_count": 26,
   "metadata": {},
   "outputs": [
    {
     "name": "stdout",
     "output_type": "stream",
     "text": [
      "[10, 2, 4, 8, 3]\n"
     ]
    }
   ],
   "source": [
    "div2nums = []\n",
    "for num1, num2 in zip(arr1, arr2):\n",
    "    div2nums.append(arithmetics.divide(num1,num2))\n",
    "print(div2nums)"
   ]
  },
  {
   "cell_type": "markdown",
   "metadata": {},
   "source": [
    "### Expected results:\n",
    "```\n",
    "[10, 2, 4, 8, 3]\n",
    "```"
   ]
  },
  {
   "cell_type": "code",
   "execution_count": 29,
   "metadata": {},
   "outputs": [
    {
     "name": "stdout",
     "output_type": "stream",
     "text": [
      "[10, 253, 36, 200, 90]\n"
     ]
    }
   ],
   "source": [
    "mul2nums = []\n",
    "for num1, num2 in zip(arr1, arr2):\n",
    "    mul2nums.append(arithmetics.multiply(num1,num2))\n",
    "print(mul2nums)"
   ]
  },
  {
   "cell_type": "markdown",
   "metadata": {},
   "source": [
    "### Expected results:\n",
    "```\n",
    "[10, 253, 36, 200, 90]\n",
    "```"
   ]
  },
  {
   "cell_type": "markdown",
   "metadata": {},
   "source": [
    "### Step 2:\n",
    "\n",
    "Please write the function: Test (Pred, Ref) - returns the logical value of True / False, if Pred and Ref definitely coincide."
   ]
  },
  {
   "cell_type": "code",
   "execution_count": 39,
   "metadata": {},
   "outputs": [
    {
     "name": "stdout",
     "output_type": "stream",
     "text": [
      "False\n",
      "True\n",
      "False\n"
     ]
    }
   ],
   "source": [
    "# Начало вашего кода\n",
    "def test(Pred, Ref):\n",
    "    return Pred==Ref\n",
    "# Конец вашего кода\n",
    "\n",
    "print(test(10,11))\n",
    "print(test([1,2,3],[1,2,3]))\n",
    "print(test(\"Hello\",\"hello\"))"
   ]
  },
  {
   "cell_type": "markdown",
   "metadata": {},
   "source": [
    "### Expected results:\n",
    "```\n",
    "False\n",
    "True\n",
    "False\n",
    "```"
   ]
  },
  {
   "cell_type": "markdown",
   "metadata": {},
   "source": [
    "### Step 3:\n",
    "\n",
    "Using only imported functions from the Arithmetics module, please write the following functions:\n",
    "\n",
    "1. Sumlist (Arr) - returns the sum of the elements of the ARR list\n",
    "2. Mullist (Arr) - returns the work of the ARR list elements\n",
    "3. Remlist (ARR1, ARR2) - returns a list of residues after dividing a larger number by smaller among the elements from the ARR1 and ARR2 lists.\n",
    "\n",
    "**Note:**\n",
    "\n",
    "- You cannot use the arithmetic operations \"+\", \"-\", \"/\", \"*\", \"%\", \"//\", as well as the built-in function \"SUM ()\", to solve these problems.\n",
    "- In order to write the Remlist (Arr1, Ar2) function, you can use the built -in functions \"max () and\" min () \"\n"
   ]
  },
  {
   "cell_type": "code",
   "execution_count": 50,
   "metadata": {},
   "outputs": [
    {
     "name": "stdout",
     "output_type": "stream",
     "text": [
      "True\n",
      "True\n"
     ]
    }
   ],
   "source": [
    "def sumList(arr):\n",
    "    # Начало вашего кода\n",
    "    result = 0\n",
    "    for num in arr:\n",
    "        result = add(result, num)\n",
    "    return result\n",
    "    # Конец вашего кода\n",
    "    \n",
    "print(test(sumList(arr1),sum(arr1)))\n",
    "print(test(sumList(arr2),sum(arr2)))"
   ]
  },
  {
   "cell_type": "markdown",
   "metadata": {},
   "source": [
    "### Expected results:\n",
    "```\n",
    "True\n",
    "True\n",
    "```"
   ]
  },
  {
   "cell_type": "code",
   "execution_count": 55,
   "metadata": {},
   "outputs": [
    {
     "name": "stdout",
     "output_type": "stream",
     "text": [
      "True\n",
      "True\n"
     ]
    }
   ],
   "source": [
    "def mulList(arr):\n",
    "    # Начало вашего кода\n",
    "    result = 1\n",
    "    for num in arr:\n",
    "        result = multiply(result, num)\n",
    "    return result\n",
    "    # Конец вашего кода\n",
    "    \n",
    "print(test(mulList(arr1),13800))\n",
    "print(test(mulList(arr2),118800))"
   ]
  },
  {
   "cell_type": "markdown",
   "metadata": {},
   "source": [
    "### Expected results:\n",
    "```\n",
    "True\n",
    "```"
   ]
  },
  {
   "cell_type": "code",
   "execution_count": 62,
   "metadata": {},
   "outputs": [
    {
     "name": "stdout",
     "output_type": "stream",
     "text": [
      "True\n"
     ]
    }
   ],
   "source": [
    "def remList(arr1,arr2):\n",
    "    # Начало вашего кода\n",
    "    if len(arr1) != len(arr2):\n",
    "        raise ValueError(\"Both lists must have the same length.\")\n",
    "    \n",
    "    result = []\n",
    "    for a, b in zip(arr1, arr2):\n",
    "        larger = max(a, b)\n",
    "        smaller = min(a, b)\n",
    "        if smaller == 0:\n",
    "            raise ValueError(\"Division by zero is not allowed.\")\n",
    "        quotient = divide(larger, smaller) \n",
    "        product = multiply(smaller, quotient)\n",
    "        remainder = subtract(larger, product)\n",
    "        result.append(remainder)\n",
    "    \n",
    "    return result\n",
    "    # Конец вашего кода\n",
    "    \n",
    "print(test(remList(arr1,arr2),[0, 1, 0, 0, 3]))"
   ]
  },
  {
   "cell_type": "markdown",
   "metadata": {},
   "source": [
    "### Expected results:\n",
    "```\n",
    "True\n",
    "```"
   ]
  }
 ],
 "metadata": {
  "kernelspec": {
   "display_name": "Python [conda env:base] *",
   "language": "python",
   "name": "conda-base-py"
  },
  "language_info": {
   "codemirror_mode": {
    "name": "ipython",
    "version": 3
   },
   "file_extension": ".py",
   "mimetype": "text/x-python",
   "name": "python",
   "nbconvert_exporter": "python",
   "pygments_lexer": "ipython3",
   "version": "3.12.7"
  }
 },
 "nbformat": 4,
 "nbformat_minor": 4
}
