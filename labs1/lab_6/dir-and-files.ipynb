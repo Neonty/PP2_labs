{
 "cells": [
  {
   "cell_type": "markdown",
   "metadata": {},
   "source": [
    "1) Write a Python program to list only directories, files and all directories, files in a specified path."
   ]
  },
  {
   "cell_type": "code",
   "execution_count": 1,
   "metadata": {},
   "outputs": [
    {
     "name": "stdout",
     "output_type": "stream",
     "text": [
      "Directories:\n",
      ".anaconda\n",
      ".conda\n",
      ".continuum\n",
      ".dotnet\n",
      ".ipython\n",
      ".jupyter\n",
      ".matplotlib\n",
      ".ssh\n",
      ".thumbnails\n",
      ".TurboVPN\n",
      ".virtual_documents\n",
      ".vscode\n",
      "anaconda_projects\n",
      "ansel\n",
      "AppData\n",
      "Application Data\n",
      "Contacts\n",
      "Cookies\n",
      "CrossDevice\n",
      "Documents\n",
      "Downloads\n",
      "Favorites\n",
      "Links\n",
      "Local Settings\n",
      "NetHood\n",
      "OneDrive\n",
      "PrintHood\n",
      "Recent\n",
      "Saved Games\n",
      "Searches\n",
      "SendTo\n",
      "Spitfire\n",
      "Videos\n",
      "главное меню\n",
      "Мои документы\n",
      "Шаблоны\n",
      "\n",
      "Files:\n",
      ".condarc\n",
      ".gitconfig\n",
      ".lesshst\n",
      "2013.csv\n",
      "2014.csv\n",
      "2015.csv\n",
      "2016.csv\n",
      "2017.csv\n",
      "2018.csv\n",
      "myfile.txt\n",
      "NTUSER.DAT\n",
      "ntuser.dat.LOG1\n",
      "ntuser.dat.LOG2\n",
      "NTUSER.DAT{3c9fc8d1-f373-11ef-9248-85e6048b9f4b}.TM.blf\n",
      "NTUSER.DAT{3c9fc8d1-f373-11ef-9248-85e6048b9f4b}.TMContainer00000000000000000001.regtrans-ms\n",
      "NTUSER.DAT{3c9fc8d1-f373-11ef-9248-85e6048b9f4b}.TMContainer00000000000000000002.regtrans-ms\n",
      "ntuser.ini\n",
      "\n",
      "All directories and files:\n",
      ".anaconda\n",
      ".conda\n",
      ".condarc\n",
      ".continuum\n",
      ".dotnet\n",
      ".gitconfig\n",
      ".ipython\n",
      ".jupyter\n",
      ".lesshst\n",
      ".matplotlib\n",
      ".ssh\n",
      ".thumbnails\n",
      ".TurboVPN\n",
      ".virtual_documents\n",
      ".vscode\n",
      "2013.csv\n",
      "2014.csv\n",
      "2015.csv\n",
      "2016.csv\n",
      "2017.csv\n",
      "2018.csv\n",
      "anaconda_projects\n",
      "ansel\n",
      "AppData\n",
      "Application Data\n",
      "Contacts\n",
      "Cookies\n",
      "CrossDevice\n",
      "Documents\n",
      "Downloads\n",
      "Favorites\n",
      "Links\n",
      "Local Settings\n",
      "myfile.txt\n",
      "NetHood\n",
      "NTUSER.DAT\n",
      "ntuser.dat.LOG1\n",
      "ntuser.dat.LOG2\n",
      "NTUSER.DAT{3c9fc8d1-f373-11ef-9248-85e6048b9f4b}.TM.blf\n",
      "NTUSER.DAT{3c9fc8d1-f373-11ef-9248-85e6048b9f4b}.TMContainer00000000000000000001.regtrans-ms\n",
      "NTUSER.DAT{3c9fc8d1-f373-11ef-9248-85e6048b9f4b}.TMContainer00000000000000000002.regtrans-ms\n",
      "ntuser.ini\n",
      "OneDrive\n",
      "PrintHood\n",
      "Recent\n",
      "Saved Games\n",
      "Searches\n",
      "SendTo\n",
      "Spitfire\n",
      "Videos\n",
      "главное меню\n",
      "Мои документы\n",
      "Шаблоны\n"
     ]
    }
   ],
   "source": [
    "import os\n",
    "\n",
    "def list_directories(path):\n",
    "    print(\"Directories:\")\n",
    "    for entry in os.listdir(path):\n",
    "        if os.path.isdir(os.path.join(path, entry)):\n",
    "            print(entry)\n",
    "\n",
    "def list_files(path):\n",
    "    print(\"Files:\")\n",
    "    for entry in os.listdir(path):\n",
    "        if os.path.isfile(os.path.join(path, entry)):\n",
    "            print(entry)\n",
    "\n",
    "def list_all(path):\n",
    "    print(\"All directories and files:\")\n",
    "    for entry in os.listdir(path):\n",
    "        print(entry)\n",
    "\n",
    "path = \".\"\n",
    "\n",
    "list_directories(path)\n",
    "print()\n",
    "list_files(path)\n",
    "print()\n",
    "list_all(path)"
   ]
  },
  {
   "cell_type": "markdown",
   "metadata": {},
   "source": [
    "2) Write a Python program to check for access to a specified path. Test the existence, readability, writability and executability of the specified path"
   ]
  },
  {
   "cell_type": "code",
   "execution_count": null,
   "metadata": {},
   "outputs": [
    {
     "name": "stdout",
     "output_type": "stream",
     "text": [
      "The path 'C:\\Users\\nurga\\OneDrive\\Desktop\\Projects\\PP2\\labs1\\lab_6\\demofile.txt' exists.\n",
      "The path 'C:\\Users\\nurga\\OneDrive\\Desktop\\Projects\\PP2\\labs1\\lab_6\\demofile.txt' is readable.\n",
      "The path 'C:\\Users\\nurga\\OneDrive\\Desktop\\Projects\\PP2\\labs1\\lab_6\\demofile.txt' is writable.\n",
      "The path 'C:\\Users\\nurga\\OneDrive\\Desktop\\Projects\\PP2\\labs1\\lab_6\\demofile.txt' is executable.\n"
     ]
    }
   ],
   "source": [
    "import os\n",
    "\n",
    "def check(path):\n",
    "    if os.path.exists(path):\n",
    "        print(f\"The path '{path}' exists.\")\n",
    "\n",
    "        if os.access(path, os.R_OK):\n",
    "            print(f\"The path '{path}' is readable.\")\n",
    "        else:\n",
    "            print(f\"The path '{path}' is not readable.\")\n",
    "        \n",
    "        if os.access(path, os.W_OK):\n",
    "            print(f\"The path '{path}' is writable.\")\n",
    "        else:\n",
    "            print(f\"The path '{path}' is not writable.\")\n",
    "        \n",
    "        if os.access(path, os.X_OK):\n",
    "            print(f\"The path '{path}' is executable.\")\n",
    "        else:\n",
    "            print(f\"The path '{path}' is not executable.\")\n",
    "    else:\n",
    "        print(f\"The path '{path}' does not exist.\")\n",
    "\n",
    "path = r\"C:\\Users\\nurga\\OneDrive\\Desktop\\Projects\\PP2\\labs1\\lab_6\\demofile.txt\"\n",
    "\n",
    "check(path)"
   ]
  },
  {
   "cell_type": "markdown",
   "metadata": {},
   "source": [
    "3) Write a Python program to test whether a given path exists or not. If the path exist find the filename and directory portion of the given path."
   ]
  },
  {
   "cell_type": "code",
   "execution_count": 4,
   "metadata": {},
   "outputs": [
    {
     "name": "stdout",
     "output_type": "stream",
     "text": [
      "The path 'C:\\Users\\nurga\\OneDrive\\Desktop\\Projects\\PP2\\labs1\\lab_6\\demofile.txt' exists.\n",
      "Directory portion: C:\\Users\\nurga\\OneDrive\\Desktop\\Projects\\PP2\\labs1\\lab_6\n",
      "Filename portion: demofile.txt\n"
     ]
    }
   ],
   "source": [
    "import os\n",
    "\n",
    "def check(path):\n",
    "    if os.path.exists(path):\n",
    "        print(f\"The path '{path}' exists.\")\n",
    "        \n",
    "        directory = os.path.dirname(path)\n",
    "        print(f\"Directory portion: {directory}\")\n",
    "        \n",
    "        filename = os.path.basename(path)\n",
    "        print(f\"Filename portion: {filename}\")\n",
    "    else:\n",
    "        print(f\"The path '{path}' does not exist.\")\n",
    "\n",
    "path = r\"C:\\Users\\nurga\\OneDrive\\Desktop\\Projects\\PP2\\labs1\\lab_6\\demofile.txt\"\n",
    "check(path)"
   ]
  },
  {
   "cell_type": "markdown",
   "metadata": {},
   "source": [
    "4) Write a Python program to count the number of lines in a text file."
   ]
  },
  {
   "cell_type": "code",
   "execution_count": 6,
   "metadata": {},
   "outputs": [
    {
     "name": "stdout",
     "output_type": "stream",
     "text": [
      "The file 'C:\\Users\\nurga\\OneDrive\\Desktop\\Projects\\PP2\\labs1\\lab_6\\demofile.txt' contains 3 lines.\n"
     ]
    }
   ],
   "source": [
    "def count_lines(filename):\n",
    "    with open(filename, 'r') as file:\n",
    "        line_count = 0\n",
    "        for line in file:\n",
    "            line_count += 1\n",
    "    return line_count\n",
    "\n",
    "filename = r\"C:\\Users\\nurga\\OneDrive\\Desktop\\Projects\\PP2\\labs1\\lab_6\\demofile.txt\"\n",
    "num_lines = count_lines(filename)\n",
    "print(f\"The file '{filename}' contains {num_lines} lines.\")"
   ]
  },
  {
   "cell_type": "markdown",
   "metadata": {},
   "source": [
    "5) Write a Python program to write a list to a file."
   ]
  },
  {
   "cell_type": "code",
   "execution_count": 10,
   "metadata": {},
   "outputs": [
    {
     "name": "stdout",
     "output_type": "stream",
     "text": [
      "The list has been written to 'C:\\Users\\nurga\\OneDrive\\Desktop\\Projects\\PP2\\labs1\\lab_6\\demofile.txt'.\n",
      "Apple\n",
      "Banana\n",
      "Cherry\n",
      "Date\n",
      "\n"
     ]
    }
   ],
   "source": [
    "def convert(filename, my_list):\n",
    "    with open(filename, 'w') as file:\n",
    "        for item in my_list:\n",
    "            file.write(f\"{item}\\n\")\n",
    "    print(f\"The list has been written to '{filename}'.\")\n",
    "\n",
    "my_list = [\"Apple\", \"Banana\", \"Cherry\", \"Date\"]\n",
    "filename = r\"C:\\Users\\nurga\\OneDrive\\Desktop\\Projects\\PP2\\labs1\\lab_6\\demofile.txt\"\n",
    "convert(filename, my_list)\n",
    "with open(filename, 'r') as file:\n",
    "    print(file.read())"
   ]
  },
  {
   "cell_type": "markdown",
   "metadata": {},
   "source": [
    "6) Write a Python program to generate 26 text files named A.txt, B.txt, and so on up to Z.txt"
   ]
  },
  {
   "cell_type": "code",
   "execution_count": 12,
   "metadata": {},
   "outputs": [
    {
     "name": "stdout",
     "output_type": "stream",
     "text": [
      "26 text files (A.txt to Z.txt) have been generated in the 'alphabet_files' directory.\n"
     ]
    }
   ],
   "source": [
    "import os\n",
    "\n",
    "def generate_text_files():\n",
    "    if not os.path.exists(\"alphabet_files\"):\n",
    "        os.makedirs(\"alphabet_files\")\n",
    "    for letter in range(ord('A'), ord('Z') + 1):\n",
    "        filename = f\"alphabet_files/{chr(letter)}.txt\"\n",
    "        with open(filename, 'w') as file:\n",
    "            file.write(f\"This is the file {chr(letter)}.txt\\n\")\n",
    "    \n",
    "    print(\"26 text files (A.txt to Z.txt) have been generated in the 'alphabet_files' directory.\")\n",
    "\n",
    "generate_text_files()"
   ]
  },
  {
   "cell_type": "markdown",
   "metadata": {},
   "source": [
    "7) Write a Python program to copy the contents of a file to another file"
   ]
  },
  {
   "cell_type": "code",
   "execution_count": 15,
   "metadata": {},
   "outputs": [
    {
     "name": "stdout",
     "output_type": "stream",
     "text": [
      "Contents of 'C:\\Users\\nurga\\OneDrive\\Desktop\\Projects\\PP2\\labs1\\lab_6\\demofile.txt' have been copied to 'C:\\Users\\nurga\\OneDrive\\Desktop\\Projects\\PP2\\labs1\\lab_6\\demofile2.txt'.\n",
      "Apple\n",
      "Banana\n",
      "Cherry\n",
      "Date\n",
      "\n",
      "Apple\n",
      "Banana\n",
      "Cherry\n",
      "Date\n",
      "\n"
     ]
    }
   ],
   "source": [
    "def copy_file(source_file, destination_file):\n",
    "    with open(source_file, 'r') as src:\n",
    "        contents = src.read()\n",
    "    \n",
    "    with open(destination_file, 'w') as dest:\n",
    "        dest.write(contents)\n",
    "    \n",
    "    print(f\"Contents of '{source_file}' have been copied to '{destination_file}'.\")\n",
    "\n",
    "source_file = r\"C:\\Users\\nurga\\OneDrive\\Desktop\\Projects\\PP2\\labs1\\lab_6\\demofile.txt\" \n",
    "destination_file = r\"C:\\Users\\nurga\\OneDrive\\Desktop\\Projects\\PP2\\labs1\\lab_6\\demofile2.txt\"\n",
    "\n",
    "copy_file(source_file, destination_file)\n",
    "with open(source_file, 'r') as file:\n",
    "    print(file.read())\n",
    "with open(destination_file, 'r') as file:\n",
    "    print(file.read())"
   ]
  },
  {
   "cell_type": "markdown",
   "metadata": {},
   "source": [
    "8) Write a Python program to delete file by specified path. Before deleting check for access and whether a given path exists or not."
   ]
  },
  {
   "cell_type": "code",
   "execution_count": 16,
   "metadata": {},
   "outputs": [
    {
     "name": "stdout",
     "output_type": "stream",
     "text": [
      "The file 'C:\\Users\\nurga\\OneDrive\\Desktop\\Projects\\PP2\\labs1\\lab_6\\example.txt' exists.\n",
      "The file 'C:\\Users\\nurga\\OneDrive\\Desktop\\Projects\\PP2\\labs1\\lab_6\\example.txt' is accessible.\n",
      "The file 'C:\\Users\\nurga\\OneDrive\\Desktop\\Projects\\PP2\\labs1\\lab_6\\example.txt' has been deleted.\n"
     ]
    }
   ],
   "source": [
    "import os\n",
    "\n",
    "def delete_file(file_path):\n",
    "    if os.path.exists(file_path):\n",
    "        print(f\"The file '{file_path}' exists.\")\n",
    "        \n",
    "        if os.access(file_path, os.R_OK | os.W_OK):\n",
    "            print(f\"The file '{file_path}' is accessible.\")\n",
    "            \n",
    "            os.remove(file_path)\n",
    "            print(f\"The file '{file_path}' has been deleted.\")\n",
    "        else:\n",
    "            print(f\"The file '{file_path}' is not accessible (missing read/write permissions).\")\n",
    "    else:\n",
    "        print(f\"The file '{file_path}' does not exist.\")\n",
    "\n",
    "file_path = r\"C:\\Users\\nurga\\OneDrive\\Desktop\\Projects\\PP2\\labs1\\lab_6\\example.txt\"\n",
    "delete_file(file_path)"
   ]
  }
 ],
 "metadata": {
  "kernelspec": {
   "display_name": "Python 3 (ipykernel)",
   "language": "python",
   "name": "python3"
  },
  "language_info": {
   "codemirror_mode": {
    "name": "ipython",
    "version": 3
   },
   "file_extension": ".py",
   "mimetype": "text/x-python",
   "name": "python",
   "nbconvert_exporter": "python",
   "pygments_lexer": "ipython3",
   "version": "3.12.7"
  }
 },
 "nbformat": 4,
 "nbformat_minor": 2
}
