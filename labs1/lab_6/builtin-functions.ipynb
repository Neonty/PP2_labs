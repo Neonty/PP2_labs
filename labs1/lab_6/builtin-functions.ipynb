{
 "cells": [
  {
   "cell_type": "markdown",
   "metadata": {},
   "source": [
    "1) Write a Python program with builtin function to multiply all the numbers in a list"
   ]
  },
  {
   "cell_type": "code",
   "execution_count": 1,
   "metadata": {},
   "outputs": [
    {
     "name": "stdout",
     "output_type": "stream",
     "text": [
      "The product: 120\n"
     ]
    }
   ],
   "source": [
    "import math\n",
    "\n",
    "def multiply_list(numbers):\n",
    "    return math.prod(numbers)\n",
    "\n",
    "numbers = [1, 2, 3, 4, 5]\n",
    "result = multiply_list(numbers)\n",
    "print(f\"The product: {result}\")"
   ]
  },
  {
   "cell_type": "markdown",
   "metadata": {},
   "source": [
    "2) Write a Python program with builtin function that accepts a string and calculate the number of upper case letters and lower case letters"
   ]
  },
  {
   "cell_type": "code",
   "execution_count": 3,
   "metadata": {},
   "outputs": [
    {
     "name": "stdout",
     "output_type": "stream",
     "text": [
      "Uppercase letters: 12\n",
      "Lowercase letters: 14\n"
     ]
    }
   ],
   "source": [
    "def string_analyze(string):\n",
    "    upper_count = 0\n",
    "    lower_count = 0\n",
    "\n",
    "    for char in string:\n",
    "        if char.isupper():\n",
    "            upper_count += 1\n",
    "        elif char.islower():\n",
    "            lower_count += 1\n",
    "\n",
    "    return upper_count, lower_count\n",
    "\n",
    "input_string = \"HelLO WoRLd!PytOn ProgRAmmiNg\"\n",
    "upper, lower = string_analyze(input_string)\n",
    "\n",
    "print(f\"Uppercase letters: {upper}\")\n",
    "print(f\"Lowercase letters: {lower}\")"
   ]
  },
  {
   "cell_type": "markdown",
   "metadata": {},
   "source": [
    "3) Write a Python program with builtin function that checks whether a passed string is palindrome or not."
   ]
  },
  {
   "cell_type": "code",
   "execution_count": 6,
   "metadata": {},
   "outputs": [
    {
     "name": "stdout",
     "output_type": "stream",
     "text": [
      "\"A man, a plan, a canal, Panama!\" is a palindrome.\n"
     ]
    }
   ],
   "source": [
    "def is_palindrome(s):\n",
    "    str = ''.join(char.lower() for char in s if char.isalnum())\n",
    "    return str == str[::-1]\n",
    "\n",
    "str = \"A man, a plan, a canal, Panama!\"\n",
    "if is_palindrome(str):\n",
    "    print(f'\"{str}\" is a palindrome.')\n",
    "else:\n",
    "    print(f'\"{str}\" is not a palindrome.')"
   ]
  },
  {
   "cell_type": "markdown",
   "metadata": {},
   "source": [
    "4) Write a Python program that invoke square root function after specific milliseconds"
   ]
  },
  {
   "cell_type": "code",
   "execution_count": 8,
   "metadata": {},
   "outputs": [
    {
     "name": "stdout",
     "output_type": "stream",
     "text": [
      "Square root of 25100 after 2123 milliseconds is 158.42979517754858\n"
     ]
    }
   ],
   "source": [
    "import time\n",
    "import math\n",
    "\n",
    "def my_func(number, ms):\n",
    "    seconds = ms / 1000\n",
    "    time.sleep(seconds)\n",
    "    result = math.sqrt(number)\n",
    "    return result\n",
    "\n",
    "number = int(input())\n",
    "delay_ms = int(input())\n",
    "\n",
    "result = my_func(number, delay_ms)\n",
    "\n",
    "print(f\"Square root of {number} after {delay_ms} milliseconds is {result}\")"
   ]
  },
  {
   "cell_type": "markdown",
   "metadata": {},
   "source": [
    "5) Write a Python program with builtin function that returns True if all elements of the tuple are true."
   ]
  },
  {
   "cell_type": "code",
   "execution_count": 9,
   "metadata": {},
   "outputs": [
    {
     "name": "stdout",
     "output_type": "stream",
     "text": [
      "All elements in (True, True, True) are true: True\n",
      "All elements in (True, False, True) are true: False\n",
      "All elements in () are true: True\n"
     ]
    }
   ],
   "source": [
    "tuple1 = (True, True, True)\n",
    "tuple2 = (True, False, True)\n",
    "tuple3 = ()\n",
    "\n",
    "print(f\"All elements in {tuple1} are true: {all(tuple1)}\")\n",
    "print(f\"All elements in {tuple2} are true: {all(tuple2)}\")\n",
    "print(f\"All elements in {tuple3} are true: {all(tuple3)}\")"
   ]
  }
 ],
 "metadata": {
  "kernelspec": {
   "display_name": "Python 3 (ipykernel)",
   "language": "python",
   "name": "python3"
  },
  "language_info": {
   "codemirror_mode": {
    "name": "ipython",
    "version": 3
   },
   "file_extension": ".py",
   "mimetype": "text/x-python",
   "name": "python",
   "nbconvert_exporter": "python",
   "pygments_lexer": "ipython3",
   "version": "3.12.7"
  }
 },
 "nbformat": 4,
 "nbformat_minor": 2
}
