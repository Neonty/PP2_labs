{
 "cells": [
  {
   "cell_type": "code",
   "execution_count": 13,
   "metadata": {},
   "outputs": [],
   "source": [
    "import pygame\n",
    "import os\n",
    "from pathlib import Path\n",
    "\n",
    "pygame.init()\n",
    "pygame.mixer.init()\n",
    "screen = pygame.display.set_mode((800,600))\n",
    "\n",
    "photos_dir = Path(r\"C:\\Users\\nurga\\OneDrive\\Desktop\\Projects\\PP2\\labs1\\lab_7\\photos\")\n",
    "photo_files = sorted([f for f in photos_dir.iterdir() if f.suffix.lower() in ['.png', '.jpg', '.jpeg']])\n",
    "photos = [pygame.transform.scale(pygame.image.load(str(f)), (800, 600)) for f in photo_files]\n",
    "current_photo = 0\n",
    "\n",
    "music_dir = Path(r\"C:\\Users\\nurga\\OneDrive\\Desktop\\Projects\\PP2\\labs1\\lab_7\\music\")\n",
    "music_files = [f for f in music_dir.iterdir() if f.suffix.lower() in ['.mp3']]\n",
    "current_track = 0\n",
    "\n",
    "pygame.mixer.music.load(os.path.join('music', music_files[current_track]))\n",
    "pygame.mixer.music.play()\n",
    "\n",
    "running = True\n",
    "while running:\n",
    "    for event in pygame.event.get():\n",
    "        if event.type == pygame.QUIT:\n",
    "            running = False\n",
    "        \n",
    "        if event.type == pygame.KEYDOWN:\n",
    "            if event.key == pygame.K_SPACE:\n",
    "                if pygame.mixer.music.get_busy():\n",
    "                    pygame.mixer.music.pause()\n",
    "                else:\n",
    "                    pygame.mixer.music.unpause()\n",
    "\n",
    "            elif event.key == pygame.K_s:\n",
    "                pygame.mixer.music.stop()\n",
    "            \n",
    "            elif event.key == pygame.K_RIGHT:\n",
    "                current_photo = (current_photo + 1) % len(photos)\n",
    "                current_track = (current_track + 1) % len(music_files)\n",
    "                pygame.mixer.music.load(os.path.join('music', music_files[current_track]))\n",
    "                pygame.mixer.music.play()\n",
    "            \n",
    "            elif event.key == pygame.K_LEFT:\n",
    "                current_photo = (current_photo - 1) % len(photos)\n",
    "                current_track = (current_track - 1) % len(music_files)\n",
    "                pygame.mixer.music.load(os.path.join('music', music_files[current_track]))\n",
    "                pygame.mixer.music.play()\n",
    "    screen.blit(photos[current_photo], (0, 0))\n",
    "    pygame.display.flip()\n",
    "\n",
    "pygame.quit()"
   ]
  }
 ],
 "metadata": {
  "kernelspec": {
   "display_name": "Python 3 (ipykernel)",
   "language": "python",
   "name": "python3"
  },
  "language_info": {
   "codemirror_mode": {
    "name": "ipython",
    "version": 3
   },
   "file_extension": ".py",
   "mimetype": "text/x-python",
   "name": "python",
   "nbconvert_exporter": "python",
   "pygments_lexer": "ipython3",
   "version": "3.12.7"
  }
 },
 "nbformat": 4,
 "nbformat_minor": 2
}
