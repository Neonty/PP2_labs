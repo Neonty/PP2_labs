{
 "cells": [
  {
   "cell_type": "code",
   "execution_count": null,
   "metadata": {},
   "outputs": [
    {
     "ename": "",
     "evalue": "",
     "output_type": "error",
     "traceback": [
      "\u001b[1;31mThe Kernel crashed while executing code in the current cell or a previous cell. \n",
      "\u001b[1;31mPlease review the code in the cell(s) to identify a possible cause of the failure. \n",
      "\u001b[1;31mClick <a href='https://aka.ms/vscodeJupyterKernelCrash'>here</a> for more info. \n",
      "\u001b[1;31mView Jupyter <a href='command:jupyter.viewOutput'>log</a> for further details."
     ]
    }
   ],
   "source": [
    "import pygame\n",
    "from datetime import datetime\n",
    "pygame.init()\n",
    "width = 800\n",
    "height = 800\n",
    "\n",
    "white = (255,255,255)\n",
    "screen = pygame.display.set_mode((width,height))\n",
    "running = True\n",
    "clock_image = pygame.image.load(r\"C:\\Users\\nurga\\OneDrive\\Desktop\\Projects\\PP2\\labs1\\lab_7\\images\\clock.png\")\n",
    "second_image = pygame.image.load(r\"C:\\Users\\nurga\\OneDrive\\Desktop\\Projects\\PP2\\labs1\\lab_7\\images\\sec_hand.png\")\n",
    "minute_image = pygame.image.load(r\"C:\\Users\\nurga\\OneDrive\\Desktop\\Projects\\PP2\\labs1\\lab_7\\images\\min_hand.png\")\n",
    "clock = pygame.time.Clock()\n",
    "\n",
    "while running:\n",
    "    for event in pygame.event.get():\n",
    "        if event.type == pygame.QUIT:\n",
    "            running = False\n",
    "\n",
    "    now = datetime.now()\n",
    "    curr_minute = now.minute\n",
    "    curr_second = now.second\n",
    "\n",
    "    min_angle = -6*curr_minute\n",
    "    sec_angle = -6*curr_second \n",
    "\n",
    "    rotated_sec = pygame.transform.rotate(second_image,sec_angle)\n",
    "    rotated_min = pygame.transform.rotate(minute_image,min_angle)\n",
    "    sec_rect= rotated_sec.get_rect(center=(width//2, height//2))\n",
    "    min_rect =rotated_min.get_rect(center=(width//2, height//2))\n",
    "    clock_rect = clock_image.get_rect(center=(width//2, height//2))\n",
    "\n",
    "    screen.fill(white)\n",
    "    screen.blit(clock_image,clock_rect)\n",
    "    screen.blit(rotated_sec,sec_rect)\n",
    "    screen.blit(rotated_min,min_rect)\n",
    "    pygame.display.flip()\n",
    "    clock.tick(60)\n"
   ]
  },
  {
   "cell_type": "code",
   "execution_count": null,
   "metadata": {},
   "outputs": [],
   "source": []
  }
 ],
 "metadata": {
  "kernelspec": {
   "display_name": "Python 3 (ipykernel)",
   "language": "python",
   "name": "python3"
  }
 },
 "nbformat": 4,
 "nbformat_minor": 2
}
